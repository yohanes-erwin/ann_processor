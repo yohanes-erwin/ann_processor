{
 "cells": [
  {
   "cell_type": "code",
   "execution_count": 1,
   "id": "928659b7",
   "metadata": {},
   "outputs": [],
   "source": [
    "from pynq import Overlay\n",
    "from pynq import allocate\n",
    "import numpy as np"
   ]
  },
  {
   "cell_type": "code",
   "execution_count": 2,
   "id": "5bbbb8aa",
   "metadata": {},
   "outputs": [
    {
     "data": {
      "application/javascript": [
       "\n",
       "try {\n",
       "require(['notebook/js/codecell'], function(codecell) {\n",
       "  codecell.CodeCell.options_default.highlight_modes[\n",
       "      'magic_text/x-csrc'] = {'reg':[/^%%microblaze/]};\n",
       "  Jupyter.notebook.events.one('kernel_ready.Kernel', function(){\n",
       "      Jupyter.notebook.get_cells().map(function(cell){\n",
       "          if (cell.cell_type == 'code'){ cell.auto_highlight(); } }) ;\n",
       "  });\n",
       "});\n",
       "} catch (e) {};\n"
      ]
     },
     "metadata": {},
     "output_type": "display_data"
    },
    {
     "data": {
      "application/javascript": [
       "\n",
       "try {\n",
       "require(['notebook/js/codecell'], function(codecell) {\n",
       "  codecell.CodeCell.options_default.highlight_modes[\n",
       "      'magic_text/x-csrc'] = {'reg':[/^%%pybind11/]};\n",
       "  Jupyter.notebook.events.one('kernel_ready.Kernel', function(){\n",
       "      Jupyter.notebook.get_cells().map(function(cell){\n",
       "          if (cell.cell_type == 'code'){ cell.auto_highlight(); } }) ;\n",
       "  });\n",
       "});\n",
       "} catch (e) {};\n"
      ]
     },
     "metadata": {},
     "output_type": "display_data"
    }
   ],
   "source": [
    "# Program bitstream to FPGA\n",
    "overlay = Overlay('/home/ubuntu/workspace/design_1.bit')"
   ]
  },
  {
   "cell_type": "code",
   "execution_count": 3,
   "id": "e297dc2c",
   "metadata": {},
   "outputs": [],
   "source": [
    "# Access to AXI DMA\n",
    "dma = overlay.axi_dma_0\n",
    "dma_send = overlay.axi_dma_0.sendchannel\n",
    "dma_recv = overlay.axi_dma_0.recvchannel"
   ]
  },
  {
   "cell_type": "code",
   "execution_count": 4,
   "id": "f77b2c49",
   "metadata": {},
   "outputs": [],
   "source": [
    "# Allocate physical memory for AXI DMA MM2S\n",
    "input_buffer = allocate(shape=(7,), dtype=np.uint64)"
   ]
  },
  {
   "cell_type": "code",
   "execution_count": 5,
   "id": "0b177c48",
   "metadata": {},
   "outputs": [],
   "source": [
    "# Input\n",
    "input_buffer[0] = 0x0000B07A057A057A\n",
    "input_buffer[1] = 0x0000FC6603E10314\n",
    "input_buffer[2] = 0x0000FC70028F0433\n",
    "input_buffer[3] = 0xF5A30051FAC21C70\n",
    "input_buffer[4] = 0x00CC07E10685E399\n",
    "input_buffer[5] = 0x1400140020002000\n",
    "input_buffer[6] = 0x1400200014002000"
   ]
  },
  {
   "cell_type": "code",
   "execution_count": 6,
   "id": "56646d72",
   "metadata": {},
   "outputs": [
    {
     "name": "stdout",
     "output_type": "stream",
     "text": [
      "0x0000B07A057A057A\n",
      "0x0000FC6603E10314\n",
      "0x0000FC70028F0433\n",
      "0xF5A30051FAC21C70\n",
      "0x00CC07E10685E399\n",
      "0x1400140020002000\n",
      "0x1400200014002000\n"
     ]
    }
   ],
   "source": [
    "# Check the written data\n",
    "for i in range(7):\n",
    "    print(\"0x%016X\" % (input_buffer[i]))"
   ]
  },
  {
   "cell_type": "code",
   "execution_count": 7,
   "id": "55120cca",
   "metadata": {},
   "outputs": [],
   "source": [
    "# Do AXI DMA MM2S transfer\n",
    "dma_send.transfer(input_buffer)"
   ]
  },
  {
   "cell_type": "code",
   "execution_count": 8,
   "id": "0ca74913",
   "metadata": {},
   "outputs": [],
   "source": [
    "# Allocate physical memory for AXI DMA S2MM\n",
    "output_buffer = allocate(shape=(2,), dtype=np.uint64)"
   ]
  },
  {
   "cell_type": "code",
   "execution_count": 9,
   "id": "77450dfc",
   "metadata": {},
   "outputs": [
    {
     "name": "stdout",
     "output_type": "stream",
     "text": [
      "0x0000000000000000\n",
      "0x0000000000000000\n"
     ]
    }
   ],
   "source": [
    "# Check the memory content\n",
    "for i in range(2):\n",
    "    print(\"0x%016X\" % (output_buffer[i]))"
   ]
  },
  {
   "cell_type": "code",
   "execution_count": 10,
   "id": "6fbf9f3b",
   "metadata": {},
   "outputs": [],
   "source": [
    "# Do AXI DMA S2MM transfer\n",
    "dma_recv.transfer(output_buffer)"
   ]
  },
  {
   "cell_type": "code",
   "execution_count": 11,
   "id": "77261e9f",
   "metadata": {},
   "outputs": [
    {
     "name": "stdout",
     "output_type": "stream",
     "text": [
      "0x0014002B002B03A8\n",
      "0x03E803CF03CF004D\n"
     ]
    }
   ],
   "source": [
    "# Check the memory content after DMA transfer\n",
    "for i in range(2):\n",
    "    print(\"0x%016X\" % (output_buffer[i]))"
   ]
  },
  {
   "cell_type": "code",
   "execution_count": 12,
   "id": "820c2c88",
   "metadata": {},
   "outputs": [],
   "source": [
    "out0 = np.zeros(4)\n",
    "out1 = np.zeros(4)"
   ]
  },
  {
   "cell_type": "code",
   "execution_count": 13,
   "id": "f2a03d52",
   "metadata": {},
   "outputs": [],
   "source": [
    "out0[0] = (output_buffer[0].astype('int64') & 0x000000000000FFFF) / 1024\n",
    "out1[0] = (output_buffer[1].astype('int64') & 0x000000000000FFFF) / 1024\n",
    "out0[1] = ((output_buffer[0].astype('int64') & 0x00000000FFFF0000) / pow(2, 16)) / 1024\n",
    "out1[1] = ((output_buffer[1].astype('int64') & 0x00000000FFFF0000) / pow(2, 16)) / 1024\n",
    "out0[2] = ((output_buffer[0].astype('int64') & 0x0000FFFF00000000) / pow(2, 32)) / 1024\n",
    "out1[2] = ((output_buffer[1].astype('int64') & 0x0000FFFF00000000) / pow(2, 32)) / 1024\n",
    "out0[3] = ((output_buffer[0].astype('uint64') & 0xFFFF000000000000) / pow(2, 48)) / 1024\n",
    "out1[3] = ((output_buffer[1].astype('uint64') & 0xFFFF000000000000) / pow(2, 48)) / 1024"
   ]
  },
  {
   "cell_type": "code",
   "execution_count": 14,
   "id": "5a25df7b",
   "metadata": {},
   "outputs": [
    {
     "data": {
      "text/plain": [
       "array([0.9140625 , 0.04199219, 0.04199219, 0.01953125])"
      ]
     },
     "execution_count": 14,
     "metadata": {},
     "output_type": "execute_result"
    }
   ],
   "source": [
    "out0"
   ]
  },
  {
   "cell_type": "code",
   "execution_count": 15,
   "id": "3f75c145",
   "metadata": {},
   "outputs": [
    {
     "data": {
      "text/plain": [
       "array([0.07519531, 0.95214844, 0.95214844, 0.9765625 ])"
      ]
     },
     "execution_count": 15,
     "metadata": {},
     "output_type": "execute_result"
    }
   ],
   "source": [
    "out1"
   ]
  },
  {
   "cell_type": "code",
   "execution_count": null,
   "id": "cab8a405",
   "metadata": {},
   "outputs": [],
   "source": []
  }
 ],
 "metadata": {
  "kernelspec": {
   "display_name": "Python 3 (ipykernel)",
   "language": "python",
   "name": "python3"
  },
  "language_info": {
   "codemirror_mode": {
    "name": "ipython",
    "version": 3
   },
   "file_extension": ".py",
   "mimetype": "text/x-python",
   "name": "python",
   "nbconvert_exporter": "python",
   "pygments_lexer": "ipython3",
   "version": "3.10.12"
  }
 },
 "nbformat": 4,
 "nbformat_minor": 5
}
